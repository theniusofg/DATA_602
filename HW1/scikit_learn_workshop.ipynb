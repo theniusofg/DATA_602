{
 "cells": [
  {
   "cell_type": "markdown",
   "source": [
    "# Machine Learning Example Case: \n",
    "House Sale Price Prediction (like Zillow's \"zestimate\") "
   ],
   "metadata": {
    "collapsed": true
   }
  },
  {
   "cell_type": "markdown",
   "source": [
    "When you see a line starting with \"TASK\", do that task!"
   ],
   "metadata": {}
  },
  {
   "cell_type": "markdown",
   "source": [
    "### TASK: Click on the next cell and press shift-enter\n",
    "You will get the code in it get executed.   \n",
    "The result of last command or representation of last varible in that cell will be displayed "
   ],
   "metadata": {}
  },
  {
   "cell_type": "code",
   "execution_count": 57,
   "source": [
    "import pandas as pd\r\n",
    "housing = pd.read_csv('data/housing_processed.csv')\r\n",
    "housing.head()"
   ],
   "outputs": [
    {
     "output_type": "execute_result",
     "data": {
      "text/html": [
       "<div>\n",
       "<style scoped>\n",
       "    .dataframe tbody tr th:only-of-type {\n",
       "        vertical-align: middle;\n",
       "    }\n",
       "\n",
       "    .dataframe tbody tr th {\n",
       "        vertical-align: top;\n",
       "    }\n",
       "\n",
       "    .dataframe thead th {\n",
       "        text-align: right;\n",
       "    }\n",
       "</style>\n",
       "<table border=\"1\" class=\"dataframe\">\n",
       "  <thead>\n",
       "    <tr style=\"text-align: right;\">\n",
       "      <th></th>\n",
       "      <th>Id</th>\n",
       "      <th>MSSubClass</th>\n",
       "      <th>LotFrontage</th>\n",
       "      <th>LotArea</th>\n",
       "      <th>OverallQual</th>\n",
       "      <th>OverallCond</th>\n",
       "      <th>YearBuilt</th>\n",
       "      <th>YearRemodAdd</th>\n",
       "      <th>MasVnrArea</th>\n",
       "      <th>ExterQual</th>\n",
       "      <th>...</th>\n",
       "      <th>GarageType_NA</th>\n",
       "      <th>SaleType_COD</th>\n",
       "      <th>SaleType_CWD</th>\n",
       "      <th>SaleType_Con</th>\n",
       "      <th>SaleType_ConLD</th>\n",
       "      <th>SaleType_ConLI</th>\n",
       "      <th>SaleType_ConLw</th>\n",
       "      <th>SaleType_New</th>\n",
       "      <th>SaleType_Oth</th>\n",
       "      <th>SaleType_WD</th>\n",
       "    </tr>\n",
       "  </thead>\n",
       "  <tbody>\n",
       "    <tr>\n",
       "      <th>0</th>\n",
       "      <td>1</td>\n",
       "      <td>60</td>\n",
       "      <td>65.0</td>\n",
       "      <td>8450</td>\n",
       "      <td>7</td>\n",
       "      <td>5</td>\n",
       "      <td>2003</td>\n",
       "      <td>2003</td>\n",
       "      <td>196.0</td>\n",
       "      <td>Gd</td>\n",
       "      <td>...</td>\n",
       "      <td>0</td>\n",
       "      <td>0</td>\n",
       "      <td>0</td>\n",
       "      <td>0</td>\n",
       "      <td>0</td>\n",
       "      <td>0</td>\n",
       "      <td>0</td>\n",
       "      <td>0</td>\n",
       "      <td>0</td>\n",
       "      <td>1</td>\n",
       "    </tr>\n",
       "    <tr>\n",
       "      <th>1</th>\n",
       "      <td>2</td>\n",
       "      <td>20</td>\n",
       "      <td>80.0</td>\n",
       "      <td>9600</td>\n",
       "      <td>6</td>\n",
       "      <td>8</td>\n",
       "      <td>1976</td>\n",
       "      <td>1976</td>\n",
       "      <td>0.0</td>\n",
       "      <td>TA</td>\n",
       "      <td>...</td>\n",
       "      <td>0</td>\n",
       "      <td>0</td>\n",
       "      <td>0</td>\n",
       "      <td>0</td>\n",
       "      <td>0</td>\n",
       "      <td>0</td>\n",
       "      <td>0</td>\n",
       "      <td>0</td>\n",
       "      <td>0</td>\n",
       "      <td>1</td>\n",
       "    </tr>\n",
       "    <tr>\n",
       "      <th>2</th>\n",
       "      <td>3</td>\n",
       "      <td>60</td>\n",
       "      <td>68.0</td>\n",
       "      <td>11250</td>\n",
       "      <td>7</td>\n",
       "      <td>5</td>\n",
       "      <td>2001</td>\n",
       "      <td>2002</td>\n",
       "      <td>162.0</td>\n",
       "      <td>Gd</td>\n",
       "      <td>...</td>\n",
       "      <td>0</td>\n",
       "      <td>0</td>\n",
       "      <td>0</td>\n",
       "      <td>0</td>\n",
       "      <td>0</td>\n",
       "      <td>0</td>\n",
       "      <td>0</td>\n",
       "      <td>0</td>\n",
       "      <td>0</td>\n",
       "      <td>1</td>\n",
       "    </tr>\n",
       "    <tr>\n",
       "      <th>3</th>\n",
       "      <td>4</td>\n",
       "      <td>70</td>\n",
       "      <td>60.0</td>\n",
       "      <td>9550</td>\n",
       "      <td>7</td>\n",
       "      <td>5</td>\n",
       "      <td>1915</td>\n",
       "      <td>1970</td>\n",
       "      <td>0.0</td>\n",
       "      <td>TA</td>\n",
       "      <td>...</td>\n",
       "      <td>0</td>\n",
       "      <td>0</td>\n",
       "      <td>0</td>\n",
       "      <td>0</td>\n",
       "      <td>0</td>\n",
       "      <td>0</td>\n",
       "      <td>0</td>\n",
       "      <td>0</td>\n",
       "      <td>0</td>\n",
       "      <td>1</td>\n",
       "    </tr>\n",
       "    <tr>\n",
       "      <th>4</th>\n",
       "      <td>5</td>\n",
       "      <td>60</td>\n",
       "      <td>84.0</td>\n",
       "      <td>14260</td>\n",
       "      <td>8</td>\n",
       "      <td>5</td>\n",
       "      <td>2000</td>\n",
       "      <td>2000</td>\n",
       "      <td>350.0</td>\n",
       "      <td>Gd</td>\n",
       "      <td>...</td>\n",
       "      <td>0</td>\n",
       "      <td>0</td>\n",
       "      <td>0</td>\n",
       "      <td>0</td>\n",
       "      <td>0</td>\n",
       "      <td>0</td>\n",
       "      <td>0</td>\n",
       "      <td>0</td>\n",
       "      <td>0</td>\n",
       "      <td>1</td>\n",
       "    </tr>\n",
       "  </tbody>\n",
       "</table>\n",
       "<p>5 rows × 238 columns</p>\n",
       "</div>"
      ],
      "text/plain": [
       "   Id  MSSubClass  LotFrontage  LotArea  OverallQual  OverallCond  YearBuilt  \\\n",
       "0   1          60         65.0     8450            7            5       2003   \n",
       "1   2          20         80.0     9600            6            8       1976   \n",
       "2   3          60         68.0    11250            7            5       2001   \n",
       "3   4          70         60.0     9550            7            5       1915   \n",
       "4   5          60         84.0    14260            8            5       2000   \n",
       "\n",
       "   YearRemodAdd  MasVnrArea ExterQual  ... GarageType_NA SaleType_COD  \\\n",
       "0          2003       196.0        Gd  ...             0            0   \n",
       "1          1976         0.0        TA  ...             0            0   \n",
       "2          2002       162.0        Gd  ...             0            0   \n",
       "3          1970         0.0        TA  ...             0            0   \n",
       "4          2000       350.0        Gd  ...             0            0   \n",
       "\n",
       "  SaleType_CWD SaleType_Con SaleType_ConLD  SaleType_ConLI SaleType_ConLw  \\\n",
       "0            0            0              0               0              0   \n",
       "1            0            0              0               0              0   \n",
       "2            0            0              0               0              0   \n",
       "3            0            0              0               0              0   \n",
       "4            0            0              0               0              0   \n",
       "\n",
       "   SaleType_New  SaleType_Oth  SaleType_WD  \n",
       "0             0             0            1  \n",
       "1             0             0            1  \n",
       "2             0             0            1  \n",
       "3             0             0            1  \n",
       "4             0             0            1  \n",
       "\n",
       "[5 rows x 238 columns]"
      ]
     },
     "metadata": {},
     "execution_count": 57
    }
   ],
   "metadata": {}
  },
  {
   "cell_type": "markdown",
   "source": [
    "### Filtering Columns\n",
    "Some columns were not removed when equivalent coded ones were created"
   ],
   "metadata": {}
  },
  {
   "cell_type": "code",
   "execution_count": 2,
   "source": [
    "housing[[\"ExterQual\",\"ExterQual_Coded\"]].head()"
   ],
   "outputs": [
    {
     "output_type": "execute_result",
     "data": {
      "text/html": [
       "<div>\n",
       "<style scoped>\n",
       "    .dataframe tbody tr th:only-of-type {\n",
       "        vertical-align: middle;\n",
       "    }\n",
       "\n",
       "    .dataframe tbody tr th {\n",
       "        vertical-align: top;\n",
       "    }\n",
       "\n",
       "    .dataframe thead th {\n",
       "        text-align: right;\n",
       "    }\n",
       "</style>\n",
       "<table border=\"1\" class=\"dataframe\">\n",
       "  <thead>\n",
       "    <tr style=\"text-align: right;\">\n",
       "      <th></th>\n",
       "      <th>ExterQual</th>\n",
       "      <th>ExterQual_Coded</th>\n",
       "    </tr>\n",
       "  </thead>\n",
       "  <tbody>\n",
       "    <tr>\n",
       "      <th>0</th>\n",
       "      <td>Gd</td>\n",
       "      <td>3</td>\n",
       "    </tr>\n",
       "    <tr>\n",
       "      <th>1</th>\n",
       "      <td>TA</td>\n",
       "      <td>2</td>\n",
       "    </tr>\n",
       "    <tr>\n",
       "      <th>2</th>\n",
       "      <td>Gd</td>\n",
       "      <td>3</td>\n",
       "    </tr>\n",
       "    <tr>\n",
       "      <th>3</th>\n",
       "      <td>TA</td>\n",
       "      <td>2</td>\n",
       "    </tr>\n",
       "    <tr>\n",
       "      <th>4</th>\n",
       "      <td>Gd</td>\n",
       "      <td>3</td>\n",
       "    </tr>\n",
       "  </tbody>\n",
       "</table>\n",
       "</div>"
      ],
      "text/plain": [
       "  ExterQual  ExterQual_Coded\n",
       "0        Gd                3\n",
       "1        TA                2\n",
       "2        Gd                3\n",
       "3        TA                2\n",
       "4        Gd                3"
      ]
     },
     "metadata": {},
     "execution_count": 2
    }
   ],
   "metadata": {}
  },
  {
   "cell_type": "markdown",
   "source": [
    "### Filtering in a series\n",
    "dtypes returns a series   \n",
    "filtering series and dataframes are similar"
   ],
   "metadata": {}
  },
  {
   "cell_type": "code",
   "execution_count": 3,
   "source": [
    "type(housing.dtypes==object)"
   ],
   "outputs": [
    {
     "output_type": "execute_result",
     "data": {
      "text/plain": [
       "pandas.core.series.Series"
      ]
     },
     "metadata": {},
     "execution_count": 3
    }
   ],
   "metadata": {}
  },
  {
   "cell_type": "code",
   "execution_count": 4,
   "source": [
    "housing.dtypes[housing.dtypes==object]"
   ],
   "outputs": [
    {
     "output_type": "execute_result",
     "data": {
      "text/plain": [
       "ExterQual       object\n",
       "ExterCond       object\n",
       "BsmtQual        object\n",
       "BsmtCond        object\n",
       "BsmtExposure    object\n",
       "BsmtFinType1    object\n",
       "BsmtFinType2    object\n",
       "HeatingQC       object\n",
       "CentralAir      object\n",
       "KitchenQual     object\n",
       "Functional      object\n",
       "FireplaceQu     object\n",
       "GarageFinish    object\n",
       "GarageQual      object\n",
       "GarageCond      object\n",
       "PavedDrive      object\n",
       "dtype: object"
      ]
     },
     "metadata": {},
     "execution_count": 4
    }
   ],
   "metadata": {}
  },
  {
   "cell_type": "code",
   "execution_count": 5,
   "source": [
    "housing.dtypes[housing.dtypes==object].shape"
   ],
   "outputs": [
    {
     "output_type": "execute_result",
     "data": {
      "text/plain": [
       "(16,)"
      ]
     },
     "metadata": {},
     "execution_count": 5
    }
   ],
   "metadata": {}
  },
  {
   "cell_type": "code",
   "execution_count": 6,
   "source": [
    "\"SalePrice\" in housing.columns "
   ],
   "outputs": [
    {
     "output_type": "execute_result",
     "data": {
      "text/plain": [
       "True"
      ]
     },
     "metadata": {},
     "execution_count": 6
    }
   ],
   "metadata": {}
  },
  {
   "cell_type": "markdown",
   "source": [
    "### Removing Undesired Columns\n",
    "In my case, my colleague had left above non-numeric columns in preprocessing, after creating corresponding coded versions"
   ],
   "metadata": {}
  },
  {
   "cell_type": "code",
   "execution_count": 7,
   "source": [
    "len(housing.columns)"
   ],
   "outputs": [
    {
     "output_type": "execute_result",
     "data": {
      "text/plain": [
       "238"
      ]
     },
     "metadata": {},
     "execution_count": 7
    }
   ],
   "metadata": {}
  },
  {
   "cell_type": "code",
   "execution_count": 8,
   "source": [
    "# We could drop columns by name:\r\n",
    "housing_ml = housing.drop(columns=[\"ExterQual\"])"
   ],
   "outputs": [],
   "metadata": {}
  },
  {
   "cell_type": "code",
   "execution_count": 9,
   "source": [
    "# or wholesale, keeping only numeric:\r\n",
    "housing_ml = housing.loc[:,housing.dtypes != object]"
   ],
   "outputs": [],
   "metadata": {}
  },
  {
   "cell_type": "code",
   "execution_count": 10,
   "source": [
    "len(housing_ml.columns)"
   ],
   "outputs": [
    {
     "output_type": "execute_result",
     "data": {
      "text/plain": [
       "222"
      ]
     },
     "metadata": {},
     "execution_count": 10
    }
   ],
   "metadata": {}
  },
  {
   "cell_type": "markdown",
   "source": [
    "# Separate Target into new Variable\n",
    "- \"SalePrice\" is the target.    \n",
    " - The value we want to predict from other values (features) for a house.  \n",
    "- Currently it is a column like the other features.   \n",
    "- Scikit-learn needs 2 variables: features (X) and target (y) to be Predicted into its own 1-D array "
   ],
   "metadata": {}
  },
  {
   "cell_type": "markdown",
   "source": [
    "# NumPy\n",
    "- Both Pandas and scikit-learn are build on top of NumPy\n",
    "- scikit-learn can not directly work on dataframes\n",
    "- X and y data type needs to be NumPy \"ndarrays\""
   ],
   "metadata": {}
  },
  {
   "cell_type": "code",
   "execution_count": 11,
   "source": [
    "housing_ml.shape"
   ],
   "outputs": [
    {
     "output_type": "execute_result",
     "data": {
      "text/plain": [
       "(1460, 222)"
      ]
     },
     "metadata": {},
     "execution_count": 11
    }
   ],
   "metadata": {}
  },
  {
   "cell_type": "code",
   "execution_count": 12,
   "source": [
    "# Split data as features and target\r\n",
    "# take \"SalePrice\" values into its own 1-D array \r\n",
    "sale_price = housing_ml.pop('SalePrice')\r\n",
    "type(sale_price)"
   ],
   "outputs": [
    {
     "output_type": "execute_result",
     "data": {
      "text/plain": [
       "pandas.core.series.Series"
      ]
     },
     "metadata": {},
     "execution_count": 12
    }
   ],
   "metadata": {}
  },
  {
   "cell_type": "code",
   "execution_count": 13,
   "source": [
    "# pop removes the column\r\n",
    "# \"in place\" operation\r\n",
    "# now housing_ml has one less column\r\n",
    "housing_ml.shape"
   ],
   "outputs": [
    {
     "output_type": "execute_result",
     "data": {
      "text/plain": [
       "(1460, 221)"
      ]
     },
     "metadata": {},
     "execution_count": 13
    }
   ],
   "metadata": {}
  },
  {
   "cell_type": "code",
   "execution_count": 14,
   "source": [
    "y = sale_price.values\r\n",
    "type(y)"
   ],
   "outputs": [
    {
     "output_type": "execute_result",
     "data": {
      "text/plain": [
       "numpy.ndarray"
      ]
     },
     "metadata": {},
     "execution_count": 14
    }
   ],
   "metadata": {}
  },
  {
   "cell_type": "markdown",
   "source": [
    "# See what other methods are available for ndarray"
   ],
   "metadata": {}
  },
  {
   "cell_type": "code",
   "execution_count": 15,
   "source": [
    "# press tab after putting cursor after dot \".\"\r\n",
    "#y. #uncomment, press tab after . "
   ],
   "outputs": [],
   "metadata": {}
  },
  {
   "cell_type": "code",
   "execution_count": 16,
   "source": [
    "y.shape\r\n",
    "# (1460,)\r\n",
    "# it is equivalent to (1460)\r\n",
    "# means it is a 1-d array"
   ],
   "outputs": [
    {
     "output_type": "execute_result",
     "data": {
      "text/plain": [
       "(1460,)"
      ]
     },
     "metadata": {},
     "execution_count": 16
    }
   ],
   "metadata": {}
  },
  {
   "cell_type": "markdown",
   "source": [
    "### TASK: get ndarray version of feature dataframe put it onto variable X"
   ],
   "metadata": {}
  },
  {
   "cell_type": "code",
   "execution_count": 17,
   "source": [
    "X = housing_ml.values"
   ],
   "outputs": [],
   "metadata": {}
  },
  {
   "cell_type": "markdown",
   "source": [
    "### TASK: check the shape of X"
   ],
   "metadata": {}
  },
  {
   "cell_type": "code",
   "execution_count": 18,
   "source": [
    "X.shape"
   ],
   "outputs": [
    {
     "output_type": "execute_result",
     "data": {
      "text/plain": [
       "(1460, 221)"
      ]
     },
     "metadata": {},
     "execution_count": 18
    }
   ],
   "metadata": {}
  },
  {
   "cell_type": "markdown",
   "source": [
    "### TASK: programmatically check if X and y has matching number of rows\n",
    "You"
   ],
   "metadata": {}
  },
  {
   "cell_type": "code",
   "execution_count": 19,
   "source": [
    "X.shape[0] == y.shape[0]"
   ],
   "outputs": [
    {
     "output_type": "execute_result",
     "data": {
      "text/plain": [
       "True"
      ]
     },
     "metadata": {},
     "execution_count": 19
    }
   ],
   "metadata": {}
  },
  {
   "cell_type": "markdown",
   "source": [
    "# First Model\n",
    "Q: What would you do if you had no features?"
   ],
   "metadata": {}
  },
  {
   "cell_type": "markdown",
   "source": [
    "A: You would always estimatate the average house price."
   ],
   "metadata": {}
  },
  {
   "cell_type": "markdown",
   "source": [
    "We will have to do much better than that.  \n",
    "We have so much data to base our decision on.   \n",
    "It can still serve us as a baseline to compare.   \n",
    "An inferior baseline could be: random in the range or max and min in training data. "
   ],
   "metadata": {}
  },
  {
   "cell_type": "code",
   "execution_count": 20,
   "source": [
    "# Import estimator\r\n",
    "from sklearn.dummy import DummyRegressor\r\n",
    "# Instantiate estimator\r\n",
    "# guess the mean every single time\r\n",
    "mean_reg = DummyRegressor(strategy='mean')\r\n",
    "# fit estimator\r\n",
    "mean_reg.fit(X, y)"
   ],
   "outputs": [
    {
     "output_type": "execute_result",
     "data": {
      "text/plain": [
       "DummyRegressor()"
      ]
     },
     "metadata": {},
     "execution_count": 20
    }
   ],
   "metadata": {}
  },
  {
   "cell_type": "code",
   "execution_count": 21,
   "source": [
    "# predict\r\n",
    "mean_reg.predict(X)"
   ],
   "outputs": [
    {
     "output_type": "execute_result",
     "data": {
      "text/plain": [
       "array([180921.19589041, 180921.19589041, 180921.19589041, ...,\n",
       "       180921.19589041, 180921.19589041, 180921.19589041])"
      ]
     },
     "metadata": {},
     "execution_count": 21
    }
   ],
   "metadata": {}
  },
  {
   "cell_type": "markdown",
   "source": [
    "## Evaluating The Model\r\n",
    "scikit-learn regressors have a score function.   \r\n",
    "It gives you how much better your model does compared to worst model\r\n",
    "Technically: what percentage of the variance has decreased over the worst model"
   ],
   "metadata": {}
  },
  {
   "cell_type": "markdown",
   "source": [
    "\"Mean\" *is* the worst model, so its score will be 0."
   ],
   "metadata": {}
  },
  {
   "cell_type": "code",
   "execution_count": 22,
   "source": [
    "mean_reg.score(X, y)"
   ],
   "outputs": [
    {
     "output_type": "execute_result",
     "data": {
      "text/plain": [
       "0.0"
      ]
     },
     "metadata": {},
     "execution_count": 22
    }
   ],
   "metadata": {}
  },
  {
   "cell_type": "markdown",
   "source": [
    "## Fitting a linear model \n",
    "First, let's use only one feature "
   ],
   "metadata": {}
  },
  {
   "cell_type": "code",
   "execution_count": 23,
   "source": [
    "from sklearn.linear_model import LinearRegression\r\n",
    "linear_model = LinearRegression()"
   ],
   "outputs": [],
   "metadata": {}
  },
  {
   "cell_type": "code",
   "execution_count": 24,
   "source": [
    "X_lf = housing_ml[['LotFrontage']]\r\n",
    "X_lf.shape"
   ],
   "outputs": [
    {
     "output_type": "execute_result",
     "data": {
      "text/plain": [
       "(1460, 1)"
      ]
     },
     "metadata": {},
     "execution_count": 24
    }
   ],
   "metadata": {}
  },
  {
   "cell_type": "code",
   "execution_count": 25,
   "source": [
    "linear_model.fit(X_lf, y)"
   ],
   "outputs": [
    {
     "output_type": "execute_result",
     "data": {
      "text/plain": [
       "LinearRegression()"
      ]
     },
     "metadata": {},
     "execution_count": 25
    }
   ],
   "metadata": {}
  },
  {
   "cell_type": "markdown",
   "source": [
    "Above, you see that it used defaults to create the estimator.   \n",
    "You could google \"LinearRegression sklearn\" and find the documentation:\n",
    "http://scikit-learn.org/stable/modules/generated/sklearn.linear_model.LinearRegression.html\n",
    "to see the options for the other parameters."
   ],
   "metadata": {}
  },
  {
   "cell_type": "code",
   "execution_count": 26,
   "source": [
    "y_pred = linear_model.predict(X_lf)"
   ],
   "outputs": [],
   "metadata": {}
  },
  {
   "cell_type": "code",
   "execution_count": 27,
   "source": [
    "linear_model.score(X_lf, y)"
   ],
   "outputs": [
    {
     "output_type": "execute_result",
     "data": {
      "text/plain": [
       "0.11215612336205605"
      ]
     },
     "metadata": {},
     "execution_count": 27
    }
   ],
   "metadata": {}
  },
  {
   "cell_type": "markdown",
   "source": [
    "### Chart Showing the Linear Fit\n",
    "matplotlib is the most common visualization library"
   ],
   "metadata": {}
  },
  {
   "cell_type": "code",
   "execution_count": 28,
   "source": [
    "import matplotlib.pyplot as plt\r\n",
    "%matplotlib inline"
   ],
   "outputs": [],
   "metadata": {}
  },
  {
   "cell_type": "code",
   "execution_count": 29,
   "source": [
    "plt.figure(figsize=(12, 5))\r\n",
    "plt.scatter(y, y_pred);"
   ],
   "outputs": [
    {
     "output_type": "display_data",
     "data": {
      "image/png": "[encoded data removed]",
      "text/plain": [
       "<Figure size 864x360 with 1 Axes>"
      ]
     },
     "metadata": {
      "needs_background": "light"
     }
    }
   ],
   "metadata": {}
  },
  {
   "cell_type": "code",
   "execution_count": 30,
   "source": [
    "plt.scatter(X_lf,y)\r\n",
    "plt.plot(X_lf,y_pred,'r--')"
   ],
   "outputs": [
    {
     "output_type": "execute_result",
     "data": {
      "text/plain": [
       "[<matplotlib.lines.Line2D at 0x1fee0d79970>]"
      ]
     },
     "metadata": {},
     "execution_count": 30
    },
    {
     "output_type": "display_data",
     "data": {
      "image/png": "[encoded data removed]",
      "text/plain": [
       "<Figure size 432x288 with 1 Axes>"
      ]
     },
     "metadata": {
      "needs_background": "light"
     }
    }
   ],
   "metadata": {}
  },
  {
   "cell_type": "markdown",
   "source": [
    "### TASK: add labels to these charts\n",
    "search label:\n",
    "https://matplotlib.org/tutorials/introductory/pyplot.html#sphx-glr-tutorials-introductory-pyplot-py\n"
   ],
   "metadata": {}
  },
  {
   "cell_type": "markdown",
   "source": [
    "### Task: try replacing scatter with plot\n",
    "Do you see why scatter is needed for data rows.\n",
    "Try also replacing plot with scatter. "
   ],
   "metadata": {}
  },
  {
   "cell_type": "markdown",
   "source": [
    "# Effect of using a Better predictor \n",
    "Ground Living Area should be better than Lot Frontage!"
   ],
   "metadata": {}
  },
  {
   "cell_type": "code",
   "execution_count": 31,
   "source": [
    "X_area = housing_ml[['GrLivArea']]"
   ],
   "outputs": [],
   "metadata": {}
  },
  {
   "cell_type": "code",
   "execution_count": 32,
   "source": [
    "linear_model.fit(X_area, y)"
   ],
   "outputs": [
    {
     "output_type": "execute_result",
     "data": {
      "text/plain": [
       "LinearRegression()"
      ]
     },
     "metadata": {},
     "execution_count": 32
    }
   ],
   "metadata": {}
  },
  {
   "cell_type": "markdown",
   "source": [
    "Now the linear_model has another model in it"
   ],
   "metadata": {}
  },
  {
   "cell_type": "code",
   "execution_count": 33,
   "source": [
    "y_pred2 = linear_model.predict(X_area)\r\n",
    "linear_model.score(X_area, y)"
   ],
   "outputs": [
    {
     "output_type": "execute_result",
     "data": {
      "text/plain": [
       "0.5021486502718042"
      ]
     },
     "metadata": {},
     "execution_count": 33
    }
   ],
   "metadata": {}
  },
  {
   "cell_type": "code",
   "execution_count": 34,
   "source": [
    "plt.figure(figsize=(12, 5))\r\n",
    "plt.scatter(y, y_pred2); # blue obviously better\r\n",
    "plt.scatter(y, y_pred); # orange"
   ],
   "outputs": [
    {
     "output_type": "display_data",
     "data": {
      "image/png": "[encoded data removed]",
      "text/plain": [
       "<Figure size 864x360 with 1 Axes>"
      ]
     },
     "metadata": {
      "needs_background": "light"
     }
    }
   ],
   "metadata": {}
  },
  {
   "cell_type": "markdown",
   "source": [
    "### TASK: add legend\n",
    "which color is the prediction based on which feature"
   ],
   "metadata": {}
  },
  {
   "cell_type": "markdown",
   "source": [
    "# Using all predictors!"
   ],
   "metadata": {}
  },
  {
   "cell_type": "code",
   "execution_count": 35,
   "source": [
    "# We had 81 columns (80 features) in original dataset,\r\n",
    "# coded as 221 features!\r\n",
    "X.shape"
   ],
   "outputs": [
    {
     "output_type": "execute_result",
     "data": {
      "text/plain": [
       "(1460, 221)"
      ]
     },
     "metadata": {},
     "execution_count": 35
    }
   ],
   "metadata": {}
  },
  {
   "cell_type": "code",
   "execution_count": 36,
   "source": [
    "linear_model.fit(X, y)"
   ],
   "outputs": [
    {
     "output_type": "execute_result",
     "data": {
      "text/plain": [
       "LinearRegression()"
      ]
     },
     "metadata": {},
     "execution_count": 36
    }
   ],
   "metadata": {}
  },
  {
   "cell_type": "code",
   "execution_count": 37,
   "source": [
    "y_pred3 = linear_model.predict(X)"
   ],
   "outputs": [
    {
     "output_type": "stream",
     "name": "stderr",
     "text": [
      "C:\\Python\\Python38\\lib\\site-packages\\sklearn\\base.py:441: UserWarning: X does not have valid feature names, but LinearRegression was fitted with feature names\n",
      "  warnings.warn(\n"
     ]
    }
   ],
   "metadata": {}
  },
  {
   "cell_type": "code",
   "execution_count": 38,
   "source": [
    "linear_model.score(X, y)"
   ],
   "outputs": [
    {
     "output_type": "stream",
     "name": "stderr",
     "text": [
      "C:\\Python\\Python38\\lib\\site-packages\\sklearn\\base.py:441: UserWarning: X does not have valid feature names, but LinearRegression was fitted with feature names\n",
      "  warnings.warn(\n"
     ]
    },
    {
     "output_type": "execute_result",
     "data": {
      "text/plain": [
       "0.9184728890914109"
      ]
     },
     "metadata": {},
     "execution_count": 38
    }
   ],
   "metadata": {}
  },
  {
   "cell_type": "code",
   "execution_count": 39,
   "source": [
    "plt.figure(figsize=(12, 5))\r\n",
    "plt.scatter(y_pred3, y);"
   ],
   "outputs": [
    {
     "output_type": "display_data",
     "data": {
      "image/png": "[encoded data removed]",
      "text/plain": [
       "<Figure size 864x360 with 1 Axes>"
      ]
     },
     "metadata": {
      "needs_background": "light"
     }
    }
   ],
   "metadata": {}
  },
  {
   "cell_type": "markdown",
   "source": [
    "# HW1\r\n",
    "## 1)    Split the data for training and testing, to use 80 percent as training data.\r\n",
    "\r\n",
    "use 21 as your randomization seed (so you achieve same results for us to grade). \\\r\n",
    "https://scikit-learn.org/stable/modules/generated/sklearn.model_selection.train_test_split.\r\n",
    "\r\n",
    "random_state = 21 \\\r\n",
    "train_size = .8"
   ],
   "metadata": {}
  },
  {
   "cell_type": "code",
   "execution_count": 40,
   "source": [
    "from sklearn.model_selection import train_test_split\r\n",
    "from sklearn.metrics import mean_squared_error\r\n",
    "\r\n",
    "housing_ml_train = train_test_split(housing_ml, train_size=.8, random_state=21)\r\n",
    "y_split = train_test_split(y, train_size=.8, random_state=21)"
   ],
   "outputs": [],
   "metadata": {}
  },
  {
   "cell_type": "code",
   "execution_count": 41,
   "source": [
    "X_train = housing_ml_train[0]\r\n",
    "X_test = housing_ml_train[1]\r\n",
    "y_train = y_split[0]\r\n",
    "y_test = y_split[1]\r\n"
   ],
   "outputs": [],
   "metadata": {}
  },
  {
   "cell_type": "markdown",
   "source": [
    "# In the following steps use training set to fit the model, and test set to evaluate it.\r\n",
    "\r\n",
    "## 2) Analyze which feature alone would give the best prediction, list the scores and RMSE errors achieved by the top 10 predictors by score.\r\n",
    "(create a loop to train a linear model for each feature and save the scores and RMSE and sort by score)"
   ],
   "metadata": {}
  },
  {
   "cell_type": "code",
   "execution_count": 42,
   "source": [
    "def linear_trainer(xtrain, xtest, ytrain, ytest):\r\n",
    "    \r\n",
    "    linear_model.fit(xtrain, ytrain)\r\n",
    "    \r\n",
    "    pred = linear_model.predict(xtest)\r\n",
    "    rmse = mean_squared_error(ytest, pred, squared=False)\r\n",
    "    score = linear_model.score(xtest, ytest)\r\n",
    "    \r\n",
    "    return score, rmse\r\n",
    "\r\n",
    "    "
   ],
   "outputs": [],
   "metadata": {}
  },
  {
   "cell_type": "code",
   "execution_count": 43,
   "source": [
    "unsorted_dict = {}\r\n",
    "for columnName in X_train:\r\n",
    "    unsorted_dict[columnName] = linear_trainer(X_train[[columnName]], X_test[[columnName]], y_train, y_test)"
   ],
   "outputs": [],
   "metadata": {}
  },
  {
   "cell_type": "code",
   "execution_count": 44,
   "source": [
    "sorted_dict = dict(sorted(unsorted_dict.items(), key=lambda item: float(item[1][0])))"
   ],
   "outputs": [],
   "metadata": {}
  },
  {
   "cell_type": "code",
   "execution_count": 45,
   "source": [
    "sorted_dict"
   ],
   "outputs": [
    {
     "output_type": "execute_result",
     "data": {
      "text/plain": [
       "{'Condition2_PosN': (-0.020376066948912364, 83158.92583353978),\n",
       " 'Exterior2nd_ImStucc': (-0.017660166796311216, 83048.18145594205),\n",
       " 'SaleType_ConLI': (-0.01706555912524066, 83023.91584022458),\n",
       " 'Exterior1st_CemntBd': (-0.013538062847594512, 82879.814542818),\n",
       " 'PoolArea': (-0.010392804721561566, 82751.11638560801),\n",
       " 'Exterior1st_HdBoard': (-0.009968870901690963, 82733.75448574177),\n",
       " 'HouseStyle_1Story': (-0.009832471587653435, 82728.1675767177),\n",
       " 'Exterior2nd_CmentBd': (-0.008684857102982058, 82681.14639506735),\n",
       " 'Exterior2nd_HdBoard': (-0.008394439544038512, 82669.24288270838),\n",
       " 'OverallCond': (-0.00796290433712965, 82651.55213346766),\n",
       " 'BsmtFinType2_Coded': (-0.006221040614055262, 82580.10605580514),\n",
       " 'HouseStyle_2.5Fin': (-0.0059818298539533465, 82570.28951285749),\n",
       " 'BsmtHalfBath': (-0.005935026640981, 82568.36870291783),\n",
       " 'MoSold': (-0.0056940252145061265, 82558.47726554428),\n",
       " 'SaleType_CWD': (-0.004490493587036015, 82509.06289059714),\n",
       " 'Exterior2nd_BrkFace': (-0.0040065397285409254, 82489.18445954035),\n",
       " 'Condition1_RRAn': (-0.0031180999589173197, 82452.67927304213),\n",
       " 'SaleType_ConLw': (-0.0031021040805496725, 82452.02186875111),\n",
       " '3SsnPorch': (-0.0030193188937734927, 82448.61944997411),\n",
       " 'BsmtFinSF2': (-0.0028772376687113965, 82442.77967425325),\n",
       " 'Exterior2nd_Stone': (-0.0027082413621286605, 82435.83310505065),\n",
       " 'RoofMatl_WdShake': (-0.0021553237394955627, 82413.10141290784),\n",
       " 'Exterior1st_Plywood': (-0.0018971501057636342, 82402.4851641783),\n",
       " 'Condition1_PosN': (-0.0018497222533371271, 82400.53475481844),\n",
       " 'MiscVal': (-0.001734887292517806, 82395.81212369961),\n",
       " 'HouseStyle_SLvl': (-0.0014118592162430943, 82382.5260202174),\n",
       " 'Heating_GasW': (-0.0009898487189290428, 82365.1655535965),\n",
       " 'RoofStyle_Mansard': (-0.0008305257837328828, 82358.61045108443),\n",
       " 'LotConfig_FR2': (-0.0008223484078542231, 82358.27399117796),\n",
       " 'Neighborhood_Blmngtn': (-0.0008194657058386845, 82358.15538144979),\n",
       " 'Id': (-0.0008072067830384722, 82357.65098210752),\n",
       " 'SaleCondition_Alloca': (-0.000701750034455273, 82353.31178528744),\n",
       " 'Condition1_RRAe': (-0.0006998418776766879, 82353.23326883385),\n",
       " 'LandSlope_Gtl': (-0.000695701346274058, 82353.06289481813),\n",
       " 'Exterior1st_BrkFace': (-0.0005958548888078674, 82348.95431980431),\n",
       " 'MSZoning_C (all)': (-0.0005891182205346457, 82348.67710572285),\n",
       " 'Neighborhood_NWAmes': (-0.000576719680276172, 82348.16690301694),\n",
       " 'Exterior1st_Stone': (-0.0005744672850414023, 82348.07421610976),\n",
       " 'LandSlope_Mod': (-0.0005566277446318324, 82347.3401086576),\n",
       " 'GarageType_Basment': (-0.0004624830098420851, 82343.4658897213),\n",
       " 'Neighborhood_Mitchel': (-0.00044096926014414173, 82342.58053606327),\n",
       " 'GarageType_CarPort': (-0.00039213630508538877, 82340.57088195696),\n",
       " 'Condition2_Feedr': (-0.0002839307296511606, 82336.11765333333),\n",
       " 'SaleCondition_AdjLand': (-0.0002658039066982809, 82335.37161566185),\n",
       " 'Electrical_FuseP': (-0.0002468104634629764, 82334.58990362857),\n",
       " 'Exterior1st_BrkComm': (-0.00023665456099264404, 82334.17191469886),\n",
       " 'Condition2_Artery': (-0.00021444447259644228, 82333.25780133417),\n",
       " 'Heating_OthW': (-0.00020285850469003996, 82332.78094697048),\n",
       " 'Heating_Floor': (-0.00020219734024440328, 82332.75373473248),\n",
       " 'Exterior1st_AsphShn': (-0.0001941387796347005, 82332.42205938508),\n",
       " 'Exterior1st_CBlock': (-0.00019269119253206846, 82332.36247925418),\n",
       " 'Exterior2nd_CBlock': (-0.00019269119253206846, 82332.36247925418),\n",
       " 'Condition2_RRAn': (-0.00018358170811838548, 82331.9875479599),\n",
       " 'RoofMatl_Roll': (-0.00018355491317390005, 82331.98644512183),\n",
       " 'Utilities_AllPub': (-0.00018341391938259122, 82331.98064203736),\n",
       " 'Utilities_NoSeWa': (-0.00018341391938259122, 82331.98064203736),\n",
       " 'RoofMatl_ClyTile': (-0.00017712526626545433, 82331.7218104704),\n",
       " 'RoofMatl_Metal': (-0.00017162744392318352, 82331.49552764997),\n",
       " 'Electrical_Mix': (-0.00017131757768873435, 82331.4827739626),\n",
       " 'Condition2_RRAe': (-0.00016891103564864451, 82331.38372378479),\n",
       " 'Foundation_Wood': (-0.00016762835239525486, 82331.33093014173),\n",
       " 'Condition1_RRNe': (-0.0001661143802795806, 82331.26861689397),\n",
       " 'RoofMatl_Tar&Grv': (-0.0001586528306534163, 82330.96150791303),\n",
       " 'RoofMatl_Membran': (-0.00015526468236415347, 82330.82205516628),\n",
       " 'Condition1_Norm': (-0.00015342383513439195, 82330.74628766258),\n",
       " 'LotConfig_Corner': (-0.0001513563289048392, 82330.66119100903),\n",
       " 'Exterior1st_ImStucc': (-0.00014999255307457382, 82330.60505920289),\n",
       " 'RoofStyle_Shed': (-0.00014822874783870787, 82330.53246248371),\n",
       " 'BldgType_TwnhsE': (-0.00014779136617404376, 82330.51446021753),\n",
       " 'LotConfig_FR3': (-0.00014274671485869916, 82330.30682627312),\n",
       " 'Exterior2nd_Other': (-0.00013581206702872883, 82330.02140068008),\n",
       " 'Condition2_PosA': (-0.00013436033793690072, 82329.96164832989),\n",
       " 'Condition1_RRNn': (-0.00013124387405993865, 82329.83337628888),\n",
       " 'SaleType_Con': (-0.00012646491878864907, 82329.63667657391),\n",
       " 'RoofStyle_Flat': (-0.00012624375708703006, 82329.62757364333),\n",
       " 'HouseStyle_2.5Unf': (-0.00011995316316415483, 82329.3686547956),\n",
       " 'HouseStyle_1.5Unf': (-0.00011974531597314098, 82329.36009985734),\n",
       " 'LandSlope_Sev': (-9.823012759735406e-05, 82328.47453529054),\n",
       " 'Neighborhood_Blueste': (-9.518493739424372e-05, 82328.34919457532),\n",
       " 'Neighborhood_Veenker': (-4.1379126913598796e-05, 82326.13450381234),\n",
       " 'GarageType_2Types': (3.114676640658676e-05, 82323.14918498877),\n",
       " 'Exterior2nd_Brk Cmn': (3.6789108524670766e-05, 82322.91692974119),\n",
       " 'Foundation_Stone': (0.000258678239009158, 82313.78280675792),\n",
       " 'ExterCond_Coded': (0.0002711428856136955, 82313.26966631394),\n",
       " 'Neighborhood_SawyerW': (0.0003423727381431929, 82310.33723795705),\n",
       " 'SaleType_ConLD': (0.0003895892955396718, 82308.39334409326),\n",
       " 'Exterior2nd_Plywood': (0.00043198630068153054, 82306.64783087074),\n",
       " 'LotShape_IR3': (0.0004923592140794186, 82304.16217352288),\n",
       " 'Condition1_PosA': (0.0005888062156794716, 82300.1911277603),\n",
       " 'Neighborhood_Gilbert': (0.000635782022619491, 82298.2569072188),\n",
       " 'Exterior2nd_AsphShn': (0.0007032909956418143, 82295.47715758599),\n",
       " 'Exterior2nd_MetalSd': (0.001165950058859, 82276.42417960039),\n",
       " 'LowQualFinSF': (0.0012553163707905712, 82272.7434355072),\n",
       " 'LandContour_Lvl': (0.0012970462358318224, 82271.0246447095),\n",
       " 'Exterior1st_Stucco': (0.0015079459756403013, 82262.33745011482),\n",
       " 'Condition2_Norm': (0.001536995862717716, 82261.14078110494),\n",
       " 'Street_Grvl': (0.0016521116037407912, 82256.39857979248),\n",
       " 'Street_Pave': (0.0016521116037407912, 82256.39857979248),\n",
       " 'Exterior1st_MetalSd': (0.001733176248080115, 82253.05895182381),\n",
       " 'MasVnrType_BrkCmn': (0.0018617576134575264, 82247.76149478981),\n",
       " 'Neighborhood_NPkVill': (0.001916970439709731, 82245.48666252058),\n",
       " 'YrSold': (0.001974422227711159, 82243.11951563838),\n",
       " 'SaleCondition_Family': (0.0022123897559948036, 82233.31397604353),\n",
       " 'MSZoning_FV': (0.002223154912191716, 82232.87036617694),\n",
       " 'Exterior2nd_Wd Shng': (0.002339031215696785, 82228.09519136486),\n",
       " 'Neighborhood_SWISU': (0.0026665572192440257, 82214.59659264618),\n",
       " 'Neighborhood_ClearCr': (0.002688099711911862, 82213.70866648607),\n",
       " 'Neighborhood_CollgCr': (0.0028896657893053845, 82205.40016632814),\n",
       " 'SaleType_Oth': (0.0029002307694795393, 82204.96465749138),\n",
       " 'RoofStyle_Gambrel': (0.003258092717997818, 82190.21153560454),\n",
       " 'Neighborhood_Crawfor': (0.00331473352752798, 82187.87623384767),\n",
       " 'Heating_Wall': (0.0037019292092451694, 82171.9103702522),\n",
       " 'MSZoning_RH': (0.004028482097033437, 82158.44267692299),\n",
       " 'ScreenPorch': (0.004043313759705347, 82157.83093711814),\n",
       " 'Condition1_Feedr': (0.004070833397988527, 82156.69586295313),\n",
       " 'Exterior2nd_Stucco': (0.004457826835080558, 82140.73228221915),\n",
       " 'LandContour_Low': (0.004518611431738928, 82138.2246197462),\n",
       " 'Condition2_RRNn': (0.004616347154031364, 82134.19238174811),\n",
       " 'Exterior1st_WdShing': (0.004654872644132779, 82132.60289882631),\n",
       " 'Neighborhood_Sawyer': (0.005437072875114191, 82100.32426207395),\n",
       " 'MasVnrType_0': (0.005520841437743895, 82096.86667744617),\n",
       " 'Foundation_Slab': (0.005881821826679734, 82081.96538545346),\n",
       " 'LotConfig_Inside': (0.006002297022020486, 82076.99156008175),\n",
       " 'Functional_Coded': (0.006492780816621302, 82056.73879612247),\n",
       " 'GarageType_BuiltIn': (0.00784289171488839, 82000.96498874723),\n",
       " 'Exterior1st_AsbShng': (0.0087912465533454, 81961.7652474302),\n",
       " 'Heating_GasA': (0.00897646008162567, 81954.10735655787),\n",
       " 'BldgType_2fmCon': (0.009090136817848316, 81949.40689171346),\n",
       " 'BldgType_Duplex': (0.009157715462548177, 81946.61242751336),\n",
       " 'LandContour_Bnk': (0.009447000976193998, 81934.64902083197),\n",
       " 'MSSubClass': (0.009706020526556003, 81923.93578109148),\n",
       " 'SaleType_COD': (0.010708317796990219, 81882.46682021048),\n",
       " 'Exterior2nd_AsbShng': (0.010709102377865265, 81882.43435080265),\n",
       " 'BedroomAbvGr': (0.010815735894967649, 81878.02126700577),\n",
       " 'Neighborhood_IDOTRR': (0.011208347330615265, 81861.77078717963),\n",
       " 'KitchenAbvGr': (0.012397644841210309, 81812.52517886687),\n",
       " 'HouseStyle_SFoyer': (0.012407233520560057, 81812.12801700777),\n",
       " 'LotShape_IR2': (0.012774237234531638, 81796.92532120465),\n",
       " 'Neighborhood_Timber': (0.013031496786750973, 81786.26696308317),\n",
       " 'Electrical_FuseF': (0.01319026543698898, 81779.68842616676),\n",
       " 'Neighborhood_BrDale': (0.01390958551827981, 81749.87695693679),\n",
       " 'EnclosedPorch': (0.014817919175916794, 81712.21647888252),\n",
       " 'BldgType_Twnhs': (0.014838413559945196, 81711.36655972227),\n",
       " 'Condition1_Artery': (0.014872864055680557, 81709.93784907518),\n",
       " 'SaleCondition_Normal': (0.015293239884661247, 81692.50225789743),\n",
       " 'BldgType_1Fam': (0.015326931740529792, 81691.1046867287),\n",
       " 'BsmtFullBath': (0.016171601613420572, 81656.05913639705),\n",
       " 'Heating_Grav': (0.016671264453440582, 81635.32092626084),\n",
       " 'Neighborhood_BrkSide': (0.016974641506834365, 81622.72687061025),\n",
       " 'Neighborhood_Edwards': (0.02046868746499575, 81477.53863643979),\n",
       " 'Neighborhood_Somerst': (0.02264472485760527, 81386.98678508721),\n",
       " 'SaleCondition_Abnorml': (0.02314391720467801, 81366.19958975766),\n",
       " 'Exterior2nd_Wd Sdng': (0.024217039366069337, 81321.49501820884),\n",
       " 'Neighborhood_MeadowV': (0.024442211278350556, 81312.11159290605),\n",
       " 'HouseStyle_2Story': (0.024666352137331815, 81302.77005839182),\n",
       " 'LotConfig_CulDSac': (0.024778374014804427, 81298.10091235323),\n",
       " 'RoofMatl_CompShg': (0.027483004651005505, 81185.28860781748),\n",
       " 'LandContour_HLS': (0.029506155546853097, 81100.79877242022),\n",
       " 'SaleType_WD': (0.03158041154239455, 81014.08322946094),\n",
       " 'PavedDrive_Coded': (0.0319809631868756, 80997.32722781683),\n",
       " 'RoofStyle_Gable': (0.033436582806145254, 80936.40608379856),\n",
       " 'Exterior1st_Wd Sdng': (0.03500545310596803, 80870.69374179158),\n",
       " 'HouseStyle_1.5Fin': (0.035637083563667904, 80844.2227348918),\n",
       " 'Neighborhood_NAmes': (0.03736755315582774, 80771.65602676153),\n",
       " 'BsmtCond_Coded': (0.039912499312463656, 80664.81589405508),\n",
       " '2ndFlrSF': (0.04143754561525703, 80600.72461609212),\n",
       " 'GarageType_NA': (0.04272254657384733, 80546.68184502813),\n",
       " 'Electrical_FuseA': (0.04343227942283956, 80516.81734458907),\n",
       " 'RoofStyle_Hip': (0.04468932635256884, 80463.89548164918),\n",
       " 'Foundation_BrkTil': (0.048961584235622135, 80283.77203106557),\n",
       " 'MasVnrType_BrkFace': (0.05020594645792931, 80231.2322012791),\n",
       " 'HalfBath': (0.050411616658065705, 80222.54501961163),\n",
       " 'Neighborhood_OldTown': (0.056894254616188356, 79948.24494326323),\n",
       " 'Exterior1st_VinylSd': (0.06043317563667017, 79798.1045994747),\n",
       " 'GarageCond_Coded': (0.06189143955525189, 79736.15483667869),\n",
       " 'Electrical_SBrkr': (0.06524429523015507, 79593.53641594094),\n",
       " 'GarageQual_Coded': (0.06645673384158568, 79541.90068426645),\n",
       " 'CentralAir_Coded': (0.0664897808085082, 79540.49279996182),\n",
       " 'Exterior2nd_VinylSd': (0.07294128160577351, 79265.1636041873),\n",
       " 'LotShape_IR1': (0.07436020754676809, 79204.4800337428),\n",
       " 'RoofMatl_WdShngl': (0.0778128890347407, 79056.62374395545),\n",
       " 'LotArea': (0.07923143765942864, 78995.79616157213),\n",
       " 'Neighborhood_StoneBr': (0.0793418959020602, 78991.05772952554),\n",
       " 'BsmtUnfSF': (0.0810958319524051, 78915.77934366273),\n",
       " 'Neighborhood_NoRidge': (0.08632072360160437, 78691.10183898313),\n",
       " 'MSZoning_RL': (0.09138259677437, 78472.82086762629),\n",
       " 'LotShape_Reg': (0.09496906244789172, 78317.79502856598),\n",
       " 'MasVnrType_Stone': (0.0977629736848139, 78196.81457726266),\n",
       " 'OpenPorchSF': (0.10873446236806528, 77719.91127314477),\n",
       " 'Foundation_CBlock': (0.11042060866681536, 77646.35901824204),\n",
       " 'BsmtFinType1_Coded': (0.11223020600209643, 77567.34405073294),\n",
       " 'LotFrontage': (0.11448119467464635, 77468.94352306935),\n",
       " 'WoodDeckSF': (0.12111874393492539, 77178.05691024158),\n",
       " 'MSZoning_RM': (0.12377446487429067, 77061.36398412885),\n",
       " 'SaleCondition_Partial': (0.12816758267852402, 76867.94058095122),\n",
       " 'SaleType_New': (0.12870116651723518, 76844.41440347223),\n",
       " 'GarageType_Attchd': (0.1365474261533659, 76497.63052250839),\n",
       " 'GarageType_Detchd': (0.14781157089309838, 75997.01870754136),\n",
       " 'BsmtFinSF1': (0.15071819017164356, 75867.30380584007),\n",
       " 'BsmtExposure_Coded': (0.15655515924802832, 75606.14278153161),\n",
       " 'MasVnrType_None': (0.16374241127289324, 75283.32203767153),\n",
       " 'Neighborhood_NridgHt': (0.16661257985115396, 75154.01884882027),\n",
       " 'HeatingQC_Coded': (0.19307201962643306, 73951.35340799425),\n",
       " 'Fireplaces': (0.22530812112691878, 72459.15093269316),\n",
       " 'MasVnrArea': (0.22616708683842457, 72418.96902937212),\n",
       " 'Foundation_PConc': (0.23188255534998847, 72151.03299360847),\n",
       " 'TotRmsAbvGrd': (0.2384400713569551, 71842.39159598933),\n",
       " 'YearRemodAdd': (0.2687678523026834, 70397.36072472854),\n",
       " 'FullBath': (0.2832024749049452, 69699.07069878266),\n",
       " 'YearBuilt': (0.2893884802745851, 69397.6654359122),\n",
       " 'FireplaceQu_Coded': (0.295675486355206, 69089.99179553337),\n",
       " 'GarageFinish_Coded': (0.3162849544224503, 68071.65468394083),\n",
       " 'BsmtQual_Coded': (0.3409700148262621, 66831.5181312807),\n",
       " 'GarageArea': (0.4073263621599067, 63377.71018105261),\n",
       " 'GarageCars': (0.41193116659665785, 63131.022100901646),\n",
       " '1stFlrSF': (0.4166679048480356, 62876.2562386846),\n",
       " 'TotalBsmtSF': (0.42491266111423953, 62430.33167581401),\n",
       " 'KitchenQual_Coded': (0.43970293723342646, 61622.30113827634),\n",
       " 'GrLivArea': (0.4442896667814059, 61369.55515927839),\n",
       " 'ExterQual_Coded': (0.49917534712671574, 58260.14865535065),\n",
       " 'OverallQual': (0.6454631197278845, 49018.435788124974)}"
      ]
     },
     "metadata": {},
     "execution_count": 45
    }
   ],
   "metadata": {}
  },
  {
   "cell_type": "code",
   "execution_count": 46,
   "source": [
    "top_ten = {}\r\n",
    "for i in range(1,11):\r\n",
    "    key = (list(sorted_dict)[-i])\r\n",
    "    top_ten[key] =(sorted_dict[key])\r\n",
    "    "
   ],
   "outputs": [],
   "metadata": {}
  },
  {
   "cell_type": "code",
   "execution_count": 47,
   "source": [
    "top_ten"
   ],
   "outputs": [
    {
     "output_type": "execute_result",
     "data": {
      "text/plain": [
       "{'OverallQual': (0.6454631197278845, 49018.435788124974),\n",
       " 'ExterQual_Coded': (0.49917534712671574, 58260.14865535065),\n",
       " 'GrLivArea': (0.4442896667814059, 61369.55515927839),\n",
       " 'KitchenQual_Coded': (0.43970293723342646, 61622.30113827634),\n",
       " 'TotalBsmtSF': (0.42491266111423953, 62430.33167581401),\n",
       " '1stFlrSF': (0.4166679048480356, 62876.2562386846),\n",
       " 'GarageCars': (0.41193116659665785, 63131.022100901646),\n",
       " 'GarageArea': (0.4073263621599067, 63377.71018105261),\n",
       " 'BsmtQual_Coded': (0.3409700148262621, 66831.5181312807),\n",
       " 'GarageFinish_Coded': (0.3162849544224503, 68071.65468394083)}"
      ]
     },
     "metadata": {},
     "execution_count": 47
    }
   ],
   "metadata": {}
  },
  {
   "cell_type": "markdown",
   "source": [
    "## 3)    Select all possible 2 pairs of these top 10 predictors, and train 45 linear models, list the scores and RMSE errors achieved by the top 10 predictors by score.\r\n"
   ],
   "metadata": {}
  },
  {
   "cell_type": "code",
   "execution_count": 48,
   "source": [
    "top_ten_list = list(top_ten)\r\n",
    "combi_10_2 = {}\r\n",
    "for i in range(len(top_ten_list)):\r\n",
    "        for j in range(len(top_ten_list)):\r\n",
    "            if j > i:\r\n",
    "                pair = [top_ten_list[i], top_ten_list[j]]\r\n",
    "                combi_10_2[str(pair)] = linear_trainer(X_train[pair], X_test[pair], y_train, y_test)\r\n",
    "\r\n",
    "combi_10_2"
   ],
   "outputs": [
    {
     "output_type": "execute_result",
     "data": {
      "text/plain": [
       "{\"['OverallQual', 'ExterQual_Coded']\": (0.668014734352153, 47433.824630568364),\n",
       " \"['OverallQual', 'GrLivArea']\": (0.692198677904023, 45673.467009316504),\n",
       " \"['OverallQual', 'KitchenQual_Coded']\": (0.6730869536074612,\n",
       "  47070.07230442363),\n",
       " \"['OverallQual', 'TotalBsmtSF']\": (0.7067911081524372, 44577.66409611637),\n",
       " \"['OverallQual', '1stFlrSF']\": (0.7173882583039417, 43764.68831784155),\n",
       " \"['OverallQual', 'GarageCars']\": (0.6723247870365776, 47124.910051666164),\n",
       " \"['OverallQual', 'GarageArea']\": (0.6813946935673895, 46468.13490082074),\n",
       " \"['OverallQual', 'BsmtQual_Coded']\": (0.6566660974647347, 48237.75463112186),\n",
       " \"['OverallQual', 'GarageFinish_Coded']\": (0.6519020465859778,\n",
       "  48571.27166300007),\n",
       " \"['ExterQual_Coded', 'GrLivArea']\": (0.6347813176873234, 49751.39145878224),\n",
       " \"['ExterQual_Coded', 'KitchenQual_Coded']\": (0.5614795448182025,\n",
       "  54515.960376135845),\n",
       " \"['ExterQual_Coded', 'TotalBsmtSF']\": (0.6230211980057891, 50546.04783882902),\n",
       " \"['ExterQual_Coded', '1stFlrSF']\": (0.6364054863411375, 49640.64317074207),\n",
       " \"['ExterQual_Coded', 'GarageCars']\": (0.5958751919482284, 52334.309055074504),\n",
       " \"['ExterQual_Coded', 'GarageArea']\": (0.5993679075736752, 52107.66431927454),\n",
       " \"['ExterQual_Coded', 'BsmtQual_Coded']\": (0.5450531167248087,\n",
       "  55527.62342914642),\n",
       " \"['ExterQual_Coded', 'GarageFinish_Coded']\": (0.5502972235709235,\n",
       "  55206.66640470449),\n",
       " \"['GrLivArea', 'KitchenQual_Coded']\": (0.6069024711847932, 51615.35229523513),\n",
       " \"['GrLivArea', 'TotalBsmtSF']\": (0.5711932027269213, 53908.78820366903),\n",
       " \"['GrLivArea', '1stFlrSF']\": (0.5248920905023893, 56744.6431682994),\n",
       " \"['GrLivArea', 'GarageCars']\": (0.5966866179721508, 52281.74267329595),\n",
       " \"['GrLivArea', 'GarageArea']\": (0.59607195218783, 52321.567242795834),\n",
       " \"['GrLivArea', 'BsmtQual_Coded']\": (0.5812685358678369, 53271.697641041275),\n",
       " \"['GrLivArea', 'GarageFinish_Coded']\": (0.5443956805719437,\n",
       "  55567.72996628545),\n",
       " \"['KitchenQual_Coded', 'TotalBsmtSF']\": (0.5990455792408332,\n",
       "  52128.62170135381),\n",
       " \"['KitchenQual_Coded', '1stFlrSF']\": (0.5968792254270976, 52269.257275613665),\n",
       " \"['KitchenQual_Coded', 'GarageCars']\": (0.567833521710212, 54119.56256292117),\n",
       " \"['KitchenQual_Coded', 'GarageArea']\": (0.5574453189291629,\n",
       "  54766.149610801396),\n",
       " \"['KitchenQual_Coded', 'BsmtQual_Coded']\": (0.5328594837350533,\n",
       "  56266.83764588095),\n",
       " \"['KitchenQual_Coded', 'GarageFinish_Coded']\": (0.5254571772774447,\n",
       "  56710.88748137839),\n",
       " \"['TotalBsmtSF', '1stFlrSF']\": (0.45421260952689846, 60819.169853519044),\n",
       " \"['TotalBsmtSF', 'GarageCars']\": (0.5573159943855633, 54774.15098357734),\n",
       " \"['TotalBsmtSF', 'GarageArea']\": (0.5381252811630992, 55948.807553497696),\n",
       " \"['TotalBsmtSF', 'BsmtQual_Coded']\": (0.5012165203950787, 58141.304193252516),\n",
       " \"['TotalBsmtSF', 'GarageFinish_Coded']\": (0.5474747523224235,\n",
       "  55379.6423221991),\n",
       " \"['1stFlrSF', 'GarageCars']\": (0.5591145233874983, 54662.76999764084),\n",
       " \"['1stFlrSF', 'GarageArea']\": (0.5422825807187134, 55696.442889674516),\n",
       " \"['1stFlrSF', 'BsmtQual_Coded']\": (0.5732205904418873, 53781.19751858489),\n",
       " \"['1stFlrSF', 'GarageFinish_Coded']\": (0.5400153833741017, 55834.21222059495),\n",
       " \"['GarageCars', 'GarageArea']\": (0.43290484443359156, 61995.00619703875),\n",
       " \"['GarageCars', 'BsmtQual_Coded']\": (0.5190330795524087, 57093.45736087427),\n",
       " \"['GarageCars', 'GarageFinish_Coded']\": (0.4593528109758299,\n",
       "  60532.0962200705),\n",
       " \"['GarageArea', 'BsmtQual_Coded']\": (0.5228645856492857, 56865.59206791338),\n",
       " \"['GarageArea', 'GarageFinish_Coded']\": (0.475748949750613,\n",
       "  59607.15498160583),\n",
       " \"['BsmtQual_Coded', 'GarageFinish_Coded']\": (0.44048257366049814,\n",
       "  61579.413429138556)}"
      ]
     },
     "metadata": {},
     "execution_count": 48
    }
   ],
   "metadata": {}
  },
  {
   "cell_type": "markdown",
   "source": [
    "## 4)    Train a single model using all features. Calculate RMSE and score. Observe how much of the prediction power was in the 2 pairs, vs all features.\r\n",
    "\r\n"
   ],
   "metadata": {}
  },
  {
   "cell_type": "code",
   "execution_count": 54,
   "source": [
    "all_linear = linear_trainer(X_train, X_test, y_train, y_test)\r\n",
    "all_linear"
   ],
   "outputs": [
    {
     "output_type": "execute_result",
     "data": {
      "text/plain": [
       "(0.8127547098527568, 35623.30345001058)"
      ]
     },
     "metadata": {},
     "execution_count": 54
    }
   ],
   "metadata": {}
  },
  {
   "cell_type": "markdown",
   "source": [
    "## 5)    Use the 5NN and 10NN regressor with all features, and list the RMSE and score for these 2 models \r\n",
    "https://scikit-learn.org/stable/modules/generated/sklearn.neighbors.KNeighborsRegressor.html \\\r\n",
    "observe if the results are better than linear regression? \r\n"
   ],
   "metadata": {}
  },
  {
   "cell_type": "code",
   "execution_count": 50,
   "source": [
    "from sklearn.neighbors import KNeighborsRegressor\r\n",
    "\r\n",
    "def nn_trainer(n_neighbor,xtrain, xtest, ytrain, ytest):\r\n",
    "    \r\n",
    "    nn = KNeighborsRegressor(n_neighbors= n_neighbor)\r\n",
    "    \r\n",
    "    nn.fit(xtrain, ytrain)\r\n",
    "    \r\n",
    "    pred = nn.predict(xtest)\r\n",
    "    rmse = mean_squared_error(ytest, pred, squared=False)\r\n",
    "    score = nn.score(xtest, ytest)\r\n",
    "    \r\n",
    "    return score, rmse"
   ],
   "outputs": [],
   "metadata": {}
  },
  {
   "cell_type": "code",
   "execution_count": 53,
   "source": [
    "nn_5 = nn_trainer(5, X_train, X_test, y_train, y_test)\r\n",
    "nn_10 = nn_trainer(10, X_train, X_test, y_train, y_test)"
   ],
   "outputs": [
    {
     "output_type": "stream",
     "name": "stderr",
     "text": [
      "C:\\Python\\Python38\\lib\\site-packages\\sklearn\\base.py:441: UserWarning: X does not have valid feature names, but KNeighborsRegressor was fitted with feature names\n",
      "  warnings.warn(\n",
      "C:\\Python\\Python38\\lib\\site-packages\\sklearn\\base.py:441: UserWarning: X does not have valid feature names, but KNeighborsRegressor was fitted with feature names\n",
      "  warnings.warn(\n",
      "C:\\Python\\Python38\\lib\\site-packages\\sklearn\\base.py:441: UserWarning: X does not have valid feature names, but KNeighborsRegressor was fitted with feature names\n",
      "  warnings.warn(\n",
      "C:\\Python\\Python38\\lib\\site-packages\\sklearn\\base.py:441: UserWarning: X does not have valid feature names, but KNeighborsRegressor was fitted with feature names\n",
      "  warnings.warn(\n"
     ]
    }
   ],
   "metadata": {}
  },
  {
   "cell_type": "code",
   "execution_count": 62,
   "source": [
    "print('all_linear:', all_linear)\r\n",
    "print('nn_5:',nn_5)\r\n",
    "print('nn_10:',  nn_10)"
   ],
   "outputs": [
    {
     "output_type": "stream",
     "name": "stdout",
     "text": [
      "all_linear: (0.8127547098527568, 35623.30345001058)\n",
      "nn_5: (0.6015421069563245, 51966.07983368139)\n",
      "nn_10: (0.5949812006956909, 52392.16317256475)\n"
     ]
    }
   ],
   "metadata": {}
  },
  {
   "cell_type": "markdown",
   "source": [
    "## Which regressor is better for inference? \r\n",
    "when applying the different regressors (linear, 5nn, and 10nn) the scoring and RMSEs it is immediately apparent that Linear appeas to have a better fit.\r\n",
    "This comports with what we learned in class. It is not to say better fit lends itself to better inference per se but does happen to be the case here."
   ],
   "metadata": {}
  }
 ],
 "metadata": {
  "kernelspec": {
   "name": "python3",
   "display_name": "Python 3.8.3 64-bit"
  },
  "interpreter": {
   "hash": "e404b59586357c814bc0d3940e75d6763c00a48753b225b81f7716971b8e1741"
  },
  "language_info": {
   "name": "python",
   "version": "3.8.3",
   "mimetype": "text/x-python",
   "codemirror_mode": {
    "name": "ipython",
    "version": 3
   },
   "pygments_lexer": "ipython3",
   "nbconvert_exporter": "python",
   "file_extension": ".py"
  }
 },
 "nbformat": 4,
 "nbformat_minor": 1
}