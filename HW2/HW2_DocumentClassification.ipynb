{
  "cells": [
    {
      "cell_type": "markdown",
      "metadata": {
        "id": "w3n07xurnj8G"
      },
      "source": [
        "###  20 News Groups Corpus, Sample dataset included in scikit-learn\n",
        "A collection of almost 20,000 articles on 20 different topics or 'newsgroups'.   \n",
        "Corpus: Text Collection\n",
        "more info: https://scikit-learn.org/stable/modules/generated/sklearn.datasets.fetch_20newsgroups.html"
      ]
    },
    {
      "cell_type": "code",
      "execution_count": 41,
      "metadata": {
        "colab": {
          "base_uri": "https://localhost:8080/"
        },
        "id": "kZFnmJHrnlsw",
        "outputId": "3df2aeac-bd15-44cc-d198-da0d7f073404"
      },
      "outputs": [],
      "source": [
        "import pandas as pd\n",
        "from sklearn.datasets import fetch_20newsgroups\n",
        "\n",
        "twenty_groups = fetch_20newsgroups(subset='all', random_state=21) \n",
        "# we will do cross validation, so we fetch all data\n",
        "# random state again same for all of you, so you all have the same shuffling for having same results"
      ]
    },
    {
      "cell_type": "markdown",
      "metadata": {
        "id": "uTwhcntfoVP-"
      },
      "source": [
        "### These are the groups that the text samples originated from."
      ]
    },
    {
      "cell_type": "code",
      "execution_count": 42,
      "metadata": {
        "colab": {
          "base_uri": "https://localhost:8080/"
        },
        "id": "xRGFKl-1n8mz",
        "outputId": "4928d822-6d23-45bc-dbfe-ff2da3cb207f"
      },
      "outputs": [
        {
          "data": {
            "text/plain": [
              "['alt.atheism',\n",
              " 'comp.graphics',\n",
              " 'comp.os.ms-windows.misc',\n",
              " 'comp.sys.ibm.pc.hardware',\n",
              " 'comp.sys.mac.hardware',\n",
              " 'comp.windows.x',\n",
              " 'misc.forsale',\n",
              " 'rec.autos',\n",
              " 'rec.motorcycles',\n",
              " 'rec.sport.baseball',\n",
              " 'rec.sport.hockey',\n",
              " 'sci.crypt',\n",
              " 'sci.electronics',\n",
              " 'sci.med',\n",
              " 'sci.space',\n",
              " 'soc.religion.christian',\n",
              " 'talk.politics.guns',\n",
              " 'talk.politics.mideast',\n",
              " 'talk.politics.misc',\n",
              " 'talk.religion.misc']"
            ]
          },
          "execution_count": 42,
          "metadata": {},
          "output_type": "execute_result"
        }
      ],
      "source": [
        "twenty_groups.target_names"
      ]
    },
    {
      "cell_type": "markdown",
      "metadata": {
        "id": "WiYrProcqDsI"
      },
      "source": [
        "#### Seeing what is the class of first entry:"
      ]
    },
    {
      "cell_type": "code",
      "execution_count": 43,
      "metadata": {
        "colab": {
          "base_uri": "https://localhost:8080/"
        },
        "id": "MulQjRg-ps3-",
        "outputId": "dbc04c61-20de-4058-8fce-4db883ff0e45"
      },
      "outputs": [
        {
          "data": {
            "text/plain": [
              "18"
            ]
          },
          "execution_count": 43,
          "metadata": {},
          "output_type": "execute_result"
        }
      ],
      "source": [
        "i=0\n",
        "twenty_groups.target[i]"
      ]
    },
    {
      "cell_type": "markdown",
      "metadata": {
        "id": "oxGou9XgqMzz"
      },
      "source": [
        "#### Index 9 is rec.sport.baseball, lets look at the first entry and see if it makes sense:"
      ]
    },
    {
      "cell_type": "code",
      "execution_count": 59,
      "metadata": {
        "colab": {
          "base_uri": "https://localhost:8080/",
          "height": 174
        },
        "id": "LJ0o51wep8UW",
        "outputId": "c29ac9c6-e80f-411e-dce1-a8c922a3edcb"
      },
      "outputs": [
        {
          "data": {
            "text/plain": [
              "'From: klf@druwa.ATT.COM (FranklinKL)\\nSubject: Re: V4 V6 V8 V12 Vx?\\nSummary: How about a Beamer?\\nLines: 33\\n\\nIn article <1993Apr24.150653.8115@magnus.acs.ohio-state.edu>, bqueiser@magnus.acs.ohio-state.edu (Brian J Queiser) writes:\\n| cka52397@uxa.cso.uiuc.edu (OrioleFan@uiuc) writes:\\n| >aas7@po.CWRU.Edu (Andrew A. Spencer) writes:\\n| \\n| >>i think that it is technicaly known as a 180 degree vee configuration.\\n| >>(could be wrong....this is how i\\'ve seen them referred to)\\n| \\n| >    Then what is a \"Flat-\" engine???\\n| \\n| flat = 180 deg V = horizonatlly opposed\\n| \\n| Usually, it also equals \"boxer,\" however, I think the term is\\n| traditionally reserved for 8\\'s and 12\\'s (and firing order matters).\\n| This was talked about here in r.a many months back; I can\\'t remember\\n| the consensus.\\n| \\n| Examples:\\n| \\n| Ferrari\\'s 512TR is a flat 12 boxer.\\n| Porsche\\'s 911 is a flat 6.\\n| Subaru\\'s Impreza is a flat 4.\\n| \\n| Regards,\\n| \\n\\nNot to inject a non-automotive note to this thread, but the BMW opposed\\ntwin used in motorcycles for a *long* time is and always has been known as\\na \"boxer\".  \\n--\\nKen Franklin \\tThey say there\\'s a heaven for people who wait\\nAMA     \\tAnd some say it\\'s better but I say it ain\\'t\\nGWRRA           I\\'d rather laugh with the sinners than cry with the saints\\nDoD #0126       The sinners are lots more fun, Y\\'know only the good die young\\n'"
            ]
          },
          "execution_count": 59,
          "metadata": {},
          "output_type": "execute_result"
        }
      ],
      "source": [
        "twenty_groups.data[i]"
      ]
    },
    {
      "cell_type": "markdown",
      "metadata": {
        "id": "86Lp9LaIo6yP"
      },
      "source": [
        "## Q1: Is the full dataset balanced for each class? Do a barchart."
      ]
    },
    {
      "cell_type": "code",
      "execution_count": 45,
      "metadata": {
        "id": "NrEG-p9t0sUr"
      },
      "outputs": [
        {
          "data": {
            "text/plain": [
              "(array([1772., 1967., 1951., 1965., 1990., 1990., 1974., 1984., 1850.,\n",
              "        1403.]),\n",
              " array([ 0. ,  1.9,  3.8,  5.7,  7.6,  9.5, 11.4, 13.3, 15.2, 17.1, 19. ]),\n",
              " <BarContainer object of 10 artists>)"
            ]
          },
          "execution_count": 45,
          "metadata": {},
          "output_type": "execute_result"
        },
        {
          "data": {
            "image/png": "[encoded data removed]",
            "text/plain": [
              "<Figure size 432x288 with 1 Axes>"
            ]
          },
          "metadata": {
            "needs_background": "light"
          },
          "output_type": "display_data"
        }
      ],
      "source": [
        "# ANSWER to Q1 goes here\n",
        "########################\n",
        "import matplotlib.pyplot as plt\n",
        "plt.hist(twenty_groups.target, width = .5)\n"
      ]
    },
    {
      "cell_type": "markdown",
      "metadata": {
        "id": "QwqiL_VhxuKU"
      },
      "source": [
        "We want to work on a binary classification example.\n",
        "Let's focus on one class 'misc.forsale', and name the rest as others.\n",
        "\n",
        "Or let's say we wanted to have a model for detecting sales related emails, and \n",
        "used this dataset to train that model"
      ]
    },
    {
      "cell_type": "code",
      "execution_count": 46,
      "metadata": {
        "colab": {
          "base_uri": "https://localhost:8080/"
        },
        "id": "UeeVDVyUo5Su",
        "outputId": "3645018f-60ca-4372-c6f7-6e7507bf31a0"
      },
      "outputs": [
        {
          "data": {
            "text/plain": [
              "list"
            ]
          },
          "execution_count": 46,
          "metadata": {},
          "output_type": "execute_result"
        }
      ],
      "source": [
        "type(twenty_groups.target_names)"
      ]
    },
    {
      "cell_type": "code",
      "execution_count": 47,
      "metadata": {
        "id": "NoRsgDTDyKTB"
      },
      "outputs": [],
      "source": [
        "twenty_groups.target_names.append('others')"
      ]
    },
    {
      "cell_type": "code",
      "execution_count": 48,
      "metadata": {
        "colab": {
          "base_uri": "https://localhost:8080/"
        },
        "id": "wr7shlJCyRsq",
        "outputId": "1d5d0bf0-5265-4c68-ddd7-b862e1b708fa"
      },
      "outputs": [
        {
          "data": {
            "text/plain": [
              "21"
            ]
          },
          "execution_count": 48,
          "metadata": {},
          "output_type": "execute_result"
        }
      ],
      "source": [
        "len(twenty_groups.target_names)"
      ]
    },
    {
      "cell_type": "code",
      "execution_count": 49,
      "metadata": {
        "colab": {
          "base_uri": "https://localhost:8080/"
        },
        "id": "OrPwRVSSzIu4",
        "outputId": "833a6667-ced1-4cee-ad7b-1c59822e8aba"
      },
      "outputs": [
        {
          "name": "stdout",
          "output_type": "stream",
          "text": [
            "0 alt.atheism\n",
            "1 comp.graphics\n",
            "2 comp.os.ms-windows.misc\n",
            "3 comp.sys.ibm.pc.hardware\n",
            "4 comp.sys.mac.hardware\n",
            "5 comp.windows.x\n",
            "6 misc.forsale\n",
            "7 rec.autos\n",
            "8 rec.motorcycles\n",
            "9 rec.sport.baseball\n",
            "10 rec.sport.hockey\n",
            "11 sci.crypt\n",
            "12 sci.electronics\n",
            "13 sci.med\n",
            "14 sci.space\n",
            "15 soc.religion.christian\n",
            "16 talk.politics.guns\n",
            "17 talk.politics.mideast\n",
            "18 talk.politics.misc\n",
            "19 talk.religion.misc\n",
            "20 others\n"
          ]
        }
      ],
      "source": [
        "for i in range(0,21):\n",
        "  print(str(i) + \" \" + twenty_groups.target_names[i])"
      ]
    },
    {
      "cell_type": "markdown",
      "metadata": {
        "id": "mFxHrhrwytxL"
      },
      "source": [
        "Since first class was 0, 'others' class will be index 20, we need to replace \n",
        "everything except 6 (\"misc.forsale\") with 20 in the target. "
      ]
    },
    {
      "cell_type": "code",
      "execution_count": 50,
      "metadata": {
        "colab": {
          "base_uri": "https://localhost:8080/"
        },
        "id": "6lN4yBwSyUty",
        "outputId": "1bf9c3b2-24aa-4247-989a-f336bee8eeaf"
      },
      "outputs": [
        {
          "data": {
            "text/plain": [
              "18"
            ]
          },
          "execution_count": 50,
          "metadata": {},
          "output_type": "execute_result"
        }
      ],
      "source": [
        "twenty_groups.target[0]"
      ]
    },
    {
      "cell_type": "code",
      "execution_count": 51,
      "metadata": {
        "id": "QfwAWEUyzl8R"
      },
      "outputs": [],
      "source": [
        "twenty_groups.target[0]=20"
      ]
    },
    {
      "cell_type": "code",
      "execution_count": 52,
      "metadata": {
        "colab": {
          "base_uri": "https://localhost:8080/"
        },
        "id": "XfBCfz05zsBG",
        "outputId": "87cc3f4e-8a06-4cd2-c1c0-288e04912c45"
      },
      "outputs": [
        {
          "data": {
            "text/plain": [
              "20"
            ]
          },
          "execution_count": 52,
          "metadata": {},
          "output_type": "execute_result"
        }
      ],
      "source": [
        "twenty_groups.target[0] # I checked if I could really modify it!"
      ]
    },
    {
      "cell_type": "code",
      "execution_count": 53,
      "metadata": {
        "colab": {
          "base_uri": "https://localhost:8080/"
        },
        "id": "jzrTYRRz0HhF",
        "outputId": "19bc5368-0b8c-44a5-c035-293ecff374f2"
      },
      "outputs": [
        {
          "data": {
            "text/plain": [
              "12"
            ]
          },
          "execution_count": 53,
          "metadata": {},
          "output_type": "execute_result"
        }
      ],
      "source": [
        "twenty_groups.target[1] #second element"
      ]
    },
    {
      "cell_type": "code",
      "execution_count": 54,
      "metadata": {
        "colab": {
          "base_uri": "https://localhost:8080/"
        },
        "id": "9Z2un6GK0VcE",
        "outputId": "b5a63199-3aea-41bb-ad35-106c88761172"
      },
      "outputs": [
        {
          "data": {
            "text/plain": [
              "7"
            ]
          },
          "execution_count": 54,
          "metadata": {},
          "output_type": "execute_result"
        }
      ],
      "source": [
        "twenty_groups.target[-1] #last element"
      ]
    },
    {
      "cell_type": "code",
      "execution_count": 55,
      "metadata": {
        "id": "6F7frxRcztrR"
      },
      "outputs": [],
      "source": [
        "class_to_keep = 6\n",
        "# now do it in a loop\n",
        "for i in range(0,len(twenty_groups.target)):\n",
        "  if twenty_groups.target[i]!= class_to_keep:\n",
        "    twenty_groups.target[i]=20"
      ]
    },
    {
      "cell_type": "code",
      "execution_count": 56,
      "metadata": {
        "colab": {
          "base_uri": "https://localhost:8080/"
        },
        "id": "3uA38BMu0bgj",
        "outputId": "829dbb02-1697-4ee8-aab6-a3ce726a9942"
      },
      "outputs": [
        {
          "data": {
            "text/plain": [
              "20"
            ]
          },
          "execution_count": 56,
          "metadata": {},
          "output_type": "execute_result"
        }
      ],
      "source": [
        "twenty_groups.target[1] #second element"
      ]
    },
    {
      "cell_type": "code",
      "execution_count": 57,
      "metadata": {
        "colab": {
          "base_uri": "https://localhost:8080/"
        },
        "id": "aRR01f_k0eF3",
        "outputId": "0e06d319-a3c9-470d-fa93-249b0da4b0e4"
      },
      "outputs": [
        {
          "data": {
            "text/plain": [
              "20"
            ]
          },
          "execution_count": 57,
          "metadata": {},
          "output_type": "execute_result"
        }
      ],
      "source": [
        "twenty_groups.target[-1] #last element"
      ]
    },
    {
      "cell_type": "markdown",
      "metadata": {
        "id": "mmHisB810i4R"
      },
      "source": [
        "## Q2:Do another barchart to see the new class distribution."
      ]
    },
    {
      "cell_type": "code",
      "execution_count": 58,
      "metadata": {
        "id": "dGewGi-P0foM"
      },
      "outputs": [
        {
          "data": {
            "text/plain": [
              "(array([  975.,     0.,     0.,     0.,     0.,     0.,     0.,     0.,\n",
              "            0., 17871.]),\n",
              " array([ 6. ,  7.4,  8.8, 10.2, 11.6, 13. , 14.4, 15.8, 17.2, 18.6, 20. ]),\n",
              " <BarContainer object of 10 artists>)"
            ]
          },
          "execution_count": 58,
          "metadata": {},
          "output_type": "execute_result"
        },
        {
          "data": {
            "image/png": "[encoded data removed]",
            "text/plain": [
              "<Figure size 432x288 with 1 Axes>"
            ]
          },
          "metadata": {
            "needs_background": "light"
          },
          "output_type": "display_data"
        }
      ],
      "source": [
        "# ANSWER to Q2 goes here\n",
        "########################\n",
        "plt.hist(twenty_groups.target, width = .5)\n"
      ]
    },
    {
      "cell_type": "code",
      "execution_count": 60,
      "metadata": {
        "id": "YYWVSaTHpc7n"
      },
      "outputs": [],
      "source": [
        "from sklearn.model_selection import train_test_split\n",
        "\n",
        "#Split the data to have a 10% validation set. \n",
        "twenty_g_X_train, twenty_g_X_test, twenty_g_y_train, twenty_g_y_test = \\\n",
        "train_test_split(twenty_groups.data, twenty_groups.target, \n",
        "                 test_size=0.10, random_state=21)"
      ]
    },
    {
      "cell_type": "markdown",
      "metadata": {
        "id": "CNVro6IT1ncl"
      },
      "source": [
        "**PRE Q3:** Let's create a pipeline that creates the vectors representing the documents, and then classify them using 5 Nearest Neighbor classifier.\n"
      ]
    },
    {
      "cell_type": "code",
      "execution_count": 86,
      "metadata": {
        "colab": {
          "base_uri": "https://localhost:8080/"
        },
        "id": "NRZ50e1H1kjS",
        "outputId": "1f7a20c2-054d-497b-c1a0-481f002b6a97"
      },
      "outputs": [],
      "source": [
        "from sklearn.pipeline import Pipeline\n",
        "from sklearn.feature_extraction.text import TfidfVectorizer\n",
        "from sklearn.neighbors import KNeighborsClassifier\n",
        "\n",
        "pipe = Pipeline([('vect', TfidfVectorizer(stop_words='english')),\n",
        "                 ('model', KNeighborsClassifier())])\n",
        "\n",
        "# and do a gridsearchCV to do cross validation \n",
        "from sklearn.model_selection import GridSearchCV\n",
        "# We are not doing hyperparameter optimization, so empty parameters dictionary passed\n",
        "# Using GridSearchCV here, only for cross validation \n",
        "parameters = {}\n",
        "grid_search = GridSearchCV(pipe, parameters, cv=10, verbose=1,n_jobs=-1)\n",
        "\n",
        "# Running the experiments \n",
        "grid_search.fit(twenty_g_X_train, twenty_g_y_train)"
      ]
    },
    {
      "cell_type": "markdown",
      "metadata": {
        "id": "3f_yDSlG17vH"
      },
      "source": [
        "**PreQ3c**: This is one way to display classification report: "
      ]
    },
    {
      "cell_type": "code",
      "execution_count": 62,
      "metadata": {
        "colab": {
          "base_uri": "https://localhost:8080/"
        },
        "id": "N77qUBjDaeBO",
        "outputId": "de5ab8d3-6804-422d-a78a-360225481c8d"
      },
      "outputs": [
        {
          "name": "stdout",
          "output_type": "stream",
          "text": [
            "              precision    recall  f1-score   support\n",
            "\n",
            "    for-sale       0.81      0.39      0.53       107\n",
            "      others       0.96      0.99      0.98      1778\n",
            "\n",
            "    accuracy                           0.96      1885\n",
            "   macro avg       0.89      0.69      0.75      1885\n",
            "weighted avg       0.96      0.96      0.95      1885\n",
            "\n",
            "Accuracy: 0.9602122015915119\n"
          ]
        }
      ],
      "source": [
        "from sklearn.metrics import classification_report\n",
        "\n",
        "# Using the predictor found to be best to predict the validation set\n",
        "predicted1 = grid_search.predict(twenty_g_X_test)\n",
        "\n",
        "from sklearn.metrics import classification_report\n",
        "print(classification_report(twenty_g_y_test,\n",
        "                            predicted1, \n",
        "                            target_names=[\"for-sale\", \"others\"]))\n",
        "\n",
        "from sklearn.metrics import accuracy_score\n",
        "print(\"Accuracy:\", accuracy_score(twenty_g_y_test, predicted1))"
      ]
    },
    {
      "cell_type": "markdown",
      "metadata": {
        "id": "66df1il3tF6p"
      },
      "source": [
        "## Q3a: GridSearchCV for hyperparameter optimization\n",
        "Rerun this experiment to see which k in kNN, gives best f1-score \n",
        "Use \n",
        "```\n",
        "parameters = {\"model__n_neighbors\" : range(1,11,3)}\n",
        "```\n",
        "you will be testing for k values  [1, 4, 7, 10]\n",
        "\n",
        "The experiments may take 5-10 minutes, as kNN classifier is not really a model, \n",
        "but compares with all entries in runtime!\n",
        " "
      ]
    },
    {
      "cell_type": "code",
      "execution_count": 91,
      "metadata": {
        "id": "M4esnvj4Pu-O"
      },
      "outputs": [
        {
          "data": {
            "text/plain": [
              "GridSearchCV(cv=10,\n",
              "             estimator=Pipeline(steps=[('vect',\n",
              "                                        TfidfVectorizer(stop_words='english')),\n",
              "                                       ('model', KNeighborsClassifier())]),\n",
              "             n_jobs=-1, param_grid={'model__n_neighbors': range(1, 11, 3)})"
            ]
          },
          "execution_count": 91,
          "metadata": {},
          "output_type": "execute_result"
        }
      ],
      "source": [
        "# ANSWER to Q3a goes here\n",
        "########################\n",
        "parameters = {\"model__n_neighbors\" : range(1,11,3)}\n",
        "grid_search = GridSearchCV(pipe, parameters, cv=10, verbose=0,n_jobs=-1)\n",
        "\n",
        "# Running the experiments \n",
        "grid_search.fit(twenty_g_X_train, twenty_g_y_train)"
      ]
    },
    {
      "cell_type": "code",
      "execution_count": 92,
      "metadata": {},
      "outputs": [
        {
          "name": "stdout",
          "output_type": "stream",
          "text": [
            "params  :  [{'model__n_neighbors': 1}, {'model__n_neighbors': 4}, {'model__n_neighbors': 7}, {'model__n_neighbors': 10}]\n",
            "mean_test_score  :  [0.9671601  0.96432985 0.96385797 0.96303257]\n",
            "std_test_score  :  [0.00244389 0.0014282  0.00284379 0.00286802]\n",
            "rank_test_score  :  [1 2 3 4]\n"
          ]
        },
        {
          "data": {
            "text/plain": [
              "{'model__n_neighbors': 1}"
            ]
          },
          "execution_count": 92,
          "metadata": {},
          "output_type": "execute_result"
        }
      ],
      "source": [
        "# grid_search.cv_results_\n",
        "for i in ['params','mean_test_score', 'std_test_score', 'rank_test_score']:\n",
        "    print(i,\" : \",grid_search.cv_results_[i])\n",
        "\n",
        "grid_search.best_params_"
      ]
    },
    {
      "cell_type": "code",
      "execution_count": 93,
      "metadata": {},
      "outputs": [
        {
          "name": "stdout",
          "output_type": "stream",
          "text": [
            "              precision    recall  f1-score   support\n",
            "\n",
            "    for-sale       0.74      0.68      0.71       107\n",
            "      others       0.98      0.99      0.98      1778\n",
            "\n",
            "    accuracy                           0.97      1885\n",
            "   macro avg       0.86      0.83      0.85      1885\n",
            "weighted avg       0.97      0.97      0.97      1885\n",
            "\n",
            "Accuracy: 0.9681697612732095\n"
          ]
        }
      ],
      "source": [
        "# Using the predictor found to be best to predict the validation set\n",
        "predicted2 = grid_search.predict(twenty_g_X_test)\n",
        "\n",
        "print(classification_report(twenty_g_y_test,\n",
        "                            predicted2, \n",
        "                            target_names=[\"for-sale\", \"others\"]))\n",
        "\n",
        "print(\"Accuracy:\", accuracy_score(twenty_g_y_test, predicted2))"
      ]
    },
    {
      "cell_type": "code",
      "execution_count": null,
      "metadata": {},
      "outputs": [],
      "source": [
        "from sklearn.pipeline import Pipeline\n",
        "from sklearn.feature_extraction.text import TfidfVectorizer\n",
        "from sklearn.svm import LinearSVC\n",
        "\n",
        "pipe = Pipeline([('vect', TfidfVectorizer(stop_words='english')),\n",
        "                 ('model', LinearSVC())])\n",
        "\n",
        "# and do a gridsearchCV to do cross validation \n",
        "from sklearn.model_selection import GridSearchCV\n",
        "# We are not doing hyperparameter optimization, so empty parameters dictionary passed\n",
        "# Using GridSearchCV here, only for cross validation \n",
        "parameters = {}\n",
        "grid_search = GridSearchCV(pipe, parameters, cv=10, verbose=1)\n",
        "\n",
        "# Running the experiments \n",
        "grid_search.fit(twenty_groups.data, twenty_groups.target)"
      ]
    },
    {
      "cell_type": "markdown",
      "metadata": {
        "id": "xlVYTaL50-ox"
      },
      "source": [
        "## Q3b: Run again for 2,3\n",
        "in 3a, you must found best accuracy happened at 1 and 4, so you want to look at 2, 3 too, maybe best is between k=1 and k=4.\n",
        "use \n",
        "\n",
        "\n",
        "```\n",
        "parameters = {\"model__n_neighbors\" : (2, 3)}\n",
        "```\n",
        "\n"
      ]
    },
    {
      "cell_type": "code",
      "execution_count": 94,
      "metadata": {
        "id": "BwfF2er1094C"
      },
      "outputs": [
        {
          "data": {
            "text/plain": [
              "GridSearchCV(cv=10,\n",
              "             estimator=Pipeline(steps=[('vect',\n",
              "                                        TfidfVectorizer(stop_words='english')),\n",
              "                                       ('model', KNeighborsClassifier())]),\n",
              "             n_jobs=-1, param_grid={'model__n_neighbors': (2, 3)})"
            ]
          },
          "execution_count": 94,
          "metadata": {},
          "output_type": "execute_result"
        }
      ],
      "source": [
        "parameters = {\"model__n_neighbors\" : (2,3)}\n",
        "grid_search = GridSearchCV(pipe, parameters, cv=10, verbose=0,n_jobs=-1)\n",
        "\n",
        "# Running the experiments \n",
        "grid_search.fit(twenty_g_X_train, twenty_g_y_train)"
      ]
    },
    {
      "cell_type": "markdown",
      "metadata": {
        "id": "3581vAct7BzZ"
      },
      "source": [
        "\n",
        "For the best performing kNN classifier you found, \n",
        "##Q3c:  display classification_report like above in PreQc3, and \n",
        "##Q3d: the confusion matrix..."
      ]
    },
    {
      "cell_type": "code",
      "execution_count": 95,
      "metadata": {
        "id": "3oChYF7dP1L9"
      },
      "outputs": [
        {
          "name": "stdout",
          "output_type": "stream",
          "text": [
            "params  :  [{'model__n_neighbors': 2}, {'model__n_neighbors': 3}]\n",
            "mean_test_score  :  [0.95796227 0.96615754]\n",
            "std_test_score  :  [0.00337873 0.00247794]\n",
            "rank_test_score  :  [2 1]\n"
          ]
        },
        {
          "data": {
            "text/plain": [
              "{'model__n_neighbors': 3}"
            ]
          },
          "execution_count": 95,
          "metadata": {},
          "output_type": "execute_result"
        }
      ],
      "source": [
        "# ANSWER to Q3c goes here\n",
        "########################\n",
        "for i in ['params','mean_test_score', 'std_test_score', 'rank_test_score']:\n",
        "    print(i,\" : \",grid_search.cv_results_[i])\n",
        "\n",
        "grid_search.best_params_"
      ]
    },
    {
      "cell_type": "code",
      "execution_count": 96,
      "metadata": {},
      "outputs": [
        {
          "name": "stdout",
          "output_type": "stream",
          "text": [
            "              precision    recall  f1-score   support\n",
            "\n",
            "    for-sale       0.85      0.50      0.63       107\n",
            "      others       0.97      0.99      0.98      1778\n",
            "\n",
            "    accuracy                           0.97      1885\n",
            "   macro avg       0.91      0.75      0.80      1885\n",
            "weighted avg       0.96      0.97      0.96      1885\n",
            "\n",
            "Accuracy: 0.96657824933687\n"
          ]
        }
      ],
      "source": [
        "# Using the predictor found to be best to predict the validation set\n",
        "predicted3 = grid_search.predict(twenty_g_X_test)\n",
        "\n",
        "print(classification_report(twenty_g_y_test,\n",
        "                            predicted3, \n",
        "                            target_names=[\"for-sale\", \"others\"]))\n",
        "\n",
        "print(\"Accuracy:\", accuracy_score(twenty_g_y_test, predicted3))"
      ]
    },
    {
      "cell_type": "code",
      "execution_count": 99,
      "metadata": {
        "id": "QGyVuPZXP6Ab"
      },
      "outputs": [
        {
          "name": "stdout",
          "output_type": "stream",
          "text": [
            "[[  53   54]\n",
            " [   9 1769]]\n"
          ]
        }
      ],
      "source": [
        "# ANSWER to Q3d goes here\n",
        "########################\n",
        "from sklearn.metrics import confusion_matrix\n",
        "print (confusion_matrix(twenty_g_y_test, predicted3))\n",
        "\n"
      ]
    }
  ],
  "metadata": {
    "colab": {
      "collapsed_sections": [],
      "name": "HW2-DocumentClassification.ipynb",
      "provenance": [],
      "toc_visible": true
    },
    "interpreter": {
      "hash": "e404b59586357c814bc0d3940e75d6763c00a48753b225b81f7716971b8e1741"
    },
    "kernelspec": {
      "display_name": "Python 3.8.3 64-bit",
      "name": "python3"
    },
    "language_info": {
      "codemirror_mode": {
        "name": "ipython",
        "version": 3
      },
      "file_extension": ".py",
      "mimetype": "text/x-python",
      "name": "python",
      "nbconvert_exporter": "python",
      "pygments_lexer": "ipython3",
      "version": "3.8.3"
    }
  },
  "nbformat": 4,
  "nbformat_minor": 0
}
